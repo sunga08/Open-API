{
 "cells": [
  {
   "cell_type": "markdown",
   "metadata": {},
   "source": [
    "# 1번"
   ]
  },
  {
   "cell_type": "code",
   "execution_count": 16,
   "metadata": {},
   "outputs": [],
   "source": [
    "import hashlib\n",
    "\n",
    "nounce = 1\n",
    "txA = 'Hello'.encode()\n",
    "txB = 'How are you?'.encode()\n",
    "txC = 'This is Thursday'.encode()\n",
    "txD = 'Happy new Year'.encode()"
   ]
  },
  {
   "cell_type": "code",
   "execution_count": 3,
   "metadata": {},
   "outputs": [],
   "source": [
    "hashA = hashlib.sha256(txA)\n",
    "hashB = hashlib.sha256(txB)\n",
    "hashC = hashlib.sha256(txC)\n",
    "hashD = hashlib.sha256(txD)"
   ]
  },
  {
   "cell_type": "code",
   "execution_count": 4,
   "metadata": {},
   "outputs": [],
   "source": [
    "hashAswap = \"\".join(reversed([hashA.hexdigest()[i:i+2] for i in range(0,hashA.digest_size*2,2)]))\n",
    "hashBswap = \"\".join(reversed([hashB.hexdigest()[i:i+2] for i in range(0,hashB.digest_size*2,2)]))\n",
    "hashCswap = \"\".join(reversed([hashC.hexdigest()[i:i+2] for i in range(0,hashC.digest_size*2,2)]))\n",
    "hashDswap = \"\".join(reversed([hashD.hexdigest()[i:i+2] for i in range(0,hashD.digest_size*2,2)]))"
   ]
  },
  {
   "cell_type": "code",
   "execution_count": 5,
   "metadata": {},
   "outputs": [
    {
     "name": "stdout",
     "output_type": "stream",
     "text": [
      "hashAswap:  691938264876d1078051da4e30ec0643262e8b93fca661f525fe7122b38d5f18 \n",
      "hashBswap:  890dfa0aaa970381d9e11e1553ac7ec9ceb53b782c1c2e692bed0614fc7d28df \n",
      "hashCswap:  3b06b3cc1ce7ee295589c7d97e132a616efff32c9a63e4738fd3b835a7991e0d \n",
      "hashDswap:  2f8578c01f8d3bcdc35d35f9b859a97786e357820a1412712b12a3b4cc4b7b12\n"
     ]
    }
   ],
   "source": [
    "print(\"hashAswap: \", hashAswap, \"\\nhashBswap: \", hashBswap, \"\\nhashCswap: \", hashCswap, \"\\nhashDswap: \", hashDswap)"
   ]
  },
  {
   "cell_type": "code",
   "execution_count": 6,
   "metadata": {},
   "outputs": [],
   "source": [
    "hashAB = hashAswap+hashBswap\n",
    "hashCD = hashCswap+hashDswap"
   ]
  },
  {
   "cell_type": "code",
   "execution_count": 7,
   "metadata": {},
   "outputs": [
    {
     "name": "stdout",
     "output_type": "stream",
     "text": [
      "hashAB:  691938264876d1078051da4e30ec0643262e8b93fca661f525fe7122b38d5f18890dfa0aaa970381d9e11e1553ac7ec9ceb53b782c1c2e692bed0614fc7d28df \n",
      "hashCD:  3b06b3cc1ce7ee295589c7d97e132a616efff32c9a63e4738fd3b835a7991e0d2f8578c01f8d3bcdc35d35f9b859a97786e357820a1412712b12a3b4cc4b7b12\n"
     ]
    }
   ],
   "source": [
    "print(\"hashAB: \", hashAB, \"\\nhashCD: \",hashCD)"
   ]
  },
  {
   "cell_type": "code",
   "execution_count": 8,
   "metadata": {},
   "outputs": [],
   "source": [
    "doubleHashAB = hashlib.sha256(hashAB.encode()).hexdigest()\n",
    "doubleHashCD = hashlib.sha256(hashCD.encode()).hexdigest()"
   ]
  },
  {
   "cell_type": "code",
   "execution_count": 9,
   "metadata": {},
   "outputs": [
    {
     "name": "stdout",
     "output_type": "stream",
     "text": [
      "doubleHashAB:  a7dca36b1e6fe56e1d7bc34fe56ceea8ab64f47a55e929b712fab58885dcdc37 \n",
      "doubleHashCD:  15524f5c1b536c2fe0f717fd8b1bbede37f94654fae6f47c20521ce476c8e0b2\n"
     ]
    }
   ],
   "source": [
    "print(\"doubleHashAB: \", doubleHashAB, \"\\ndoubleHashCD: \",doubleHashCD)"
   ]
  },
  {
   "cell_type": "code",
   "execution_count": 13,
   "metadata": {},
   "outputs": [],
   "source": [
    "hashABCD = doubleHashAB+doubleHashCD"
   ]
  },
  {
   "cell_type": "code",
   "execution_count": 14,
   "metadata": {},
   "outputs": [],
   "source": [
    "doublehashABCD = hashlib.sha256(hashABCD.encode()).hexdigest()"
   ]
  },
  {
   "cell_type": "code",
   "execution_count": 15,
   "metadata": {},
   "outputs": [
    {
     "name": "stdout",
     "output_type": "stream",
     "text": [
      "Mercle Root:  ebf28da68da599ed4060088d1821a9906ec29ff6381f94e211797d4c4b6657b8\n"
     ]
    }
   ],
   "source": [
    "print(\"Mercle Root: \", doublehashABCD)"
   ]
  },
  {
   "cell_type": "markdown",
   "metadata": {},
   "source": [
    "# 2번"
   ]
  },
  {
   "cell_type": "code",
   "execution_count": null,
   "metadata": {},
   "outputs": [],
   "source": []
  },
  {
   "cell_type": "markdown",
   "metadata": {},
   "source": [
    "# 3번"
   ]
  },
  {
   "cell_type": "raw",
   "metadata": {},
   "source": [
    "1) 목표해시 = 90인 경우"
   ]
  },
  {
   "cell_type": "code",
   "execution_count": 40,
   "metadata": {},
   "outputs": [
    {
     "name": "stdout",
     "output_type": "stream",
     "text": [
      "94 69 \n",
      "\n",
      "2 회만에 성공\n"
     ]
    }
   ],
   "source": [
    "import hashlib\n",
    "from random import randint\n",
    "ntry = 1\n",
    "found = False\n",
    "NOUNCE = 0\n",
    "while found == False:\n",
    "    guessHash = int(random.random()*100)\n",
    "    if guessHash<90:\n",
    "        found = True\n",
    "    NOUNCE+=1\n",
    "    print(guessHash, end=\" \" )\n",
    "print(\"\\n\")\n",
    "print(NOUNCE,\"회만에 성공\")"
   ]
  },
  {
   "cell_type": "raw",
   "metadata": {},
   "source": [
    "2) 목표해시 = 10인 경우"
   ]
  },
  {
   "cell_type": "code",
   "execution_count": 41,
   "metadata": {},
   "outputs": [
    {
     "name": "stdout",
     "output_type": "stream",
     "text": [
      "66 15 43 58 44 72 51 48 91 24 37 68 21 79 73 86 86 27 97 72 9 \n",
      "\n",
      "21 회만에 성공\n"
     ]
    }
   ],
   "source": [
    "import hashlib\n",
    "from random import randint\n",
    "ntry = 1\n",
    "found = False\n",
    "NOUNCE = 0\n",
    "while found == False:\n",
    "    guessHash = int(random.random()*100)\n",
    "    if guessHash<10:\n",
    "        found = True\n",
    "    NOUNCE+=1\n",
    "    print(guessHash, end=\" \")\n",
    "\n",
    "print(\"\\n\")\n",
    "print(NOUNCE,\"회만에 성공\")"
   ]
  }
 ],
 "metadata": {
  "kernelspec": {
   "display_name": "Python 3",
   "language": "python",
   "name": "python3"
  },
  "language_info": {
   "codemirror_mode": {
    "name": "ipython",
    "version": 3
   },
   "file_extension": ".py",
   "mimetype": "text/x-python",
   "name": "python",
   "nbconvert_exporter": "python",
   "pygments_lexer": "ipython3",
   "version": "3.8.2"
  }
 },
 "nbformat": 4,
 "nbformat_minor": 4
}
